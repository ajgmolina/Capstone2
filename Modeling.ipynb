{
 "cells": [
  {
   "cell_type": "code",
   "execution_count": 8,
   "metadata": {},
   "outputs": [],
   "source": [
    "import pandas as pd\n",
    "import seaborn as sns\n",
    "import matplotlib.pyplot as plt\n",
    "import numpy as np\n",
    "pd.options.display.float_format = '{:.2f}'.format #Setting changed for better visibility purposes\n",
    "sns.set()\n",
    "from scipy.stats import f_oneway\n",
    "from scipy import stats\n",
    "from sklearn import metrics"
   ]
  },
  {
   "cell_type": "markdown",
   "metadata": {},
   "source": [
    "### Modeling\n",
    "\n",
    "This notebook is divided in three parts, testing several models using the following techniques:\n",
    "\n",
    "1. Addressing class imbalance through built-in model parameters.\n",
    "2. Addressing class imbalance in the dataset prior to modeling, and training models on balanced data.\n",
    "3. Hyperparameter tuning of selected models.\n",
    "\n",
    "Because of the relatively high processing times required when testing models, a first pass is done without hyperparameter tuning to get a sense of time and metrics per model. The last step applies hyperparametric tuning on the best three performing models."
   ]
  },
  {
   "cell_type": "code",
   "execution_count": 3,
   "metadata": {},
   "outputs": [],
   "source": [
    "filename = '/Users/agm/Desktop/Capstone2/Data/2018_9_reduced.csv'\n",
    "df = pd.read_csv(filename)"
   ]
  },
  {
   "cell_type": "code",
   "execution_count": 4,
   "metadata": {},
   "outputs": [],
   "source": [
    "#Splitting dataset\n",
    "from sklearn.model_selection import train_test_split\n",
    "\n",
    "X = df.drop(columns=['action_taken'])\n",
    "y = df['action_taken']\n",
    "\n",
    "X_train, X_test, y_train, y_test = train_test_split(X, y, test_size=0.25, random_state=58)"
   ]
  },
  {
   "cell_type": "code",
   "execution_count": 5,
   "metadata": {},
   "outputs": [],
   "source": [
    "#Normalizing dataset\n",
    "from sklearn.preprocessing import MinMaxScaler\n",
    "\n",
    "#Applying scaler on train set\n",
    "scaler = MinMaxScaler()\n",
    "X_train = scaler.fit_transform(X_train)\n",
    "\n",
    "#Applying scaler on test set\n",
    "X_test = scaler.transform(X_test)"
   ]
  },
  {
   "cell_type": "markdown",
   "metadata": {},
   "source": [
    "## I. Addressing class imbalance through model parameters"
   ]
  },
  {
   "cell_type": "markdown",
   "metadata": {},
   "source": [
    "### Bagged Decision Trees with Random Undersampling"
   ]
  },
  {
   "cell_type": "code",
   "execution_count": 19,
   "metadata": {},
   "outputs": [
    {
     "name": "stdout",
     "output_type": "stream",
     "text": [
      "              precision    recall  f1-score   support\n",
      "\n",
      "           0       0.20      0.59      0.30    178306\n",
      "           1       0.95      0.78      0.86   1913961\n",
      "\n",
      "    accuracy                           0.76   2092267\n",
      "   macro avg       0.58      0.68      0.58   2092267\n",
      "weighted avg       0.89      0.76      0.81   2092267\n",
      "\n",
      "CPU times: user 19min 45s, sys: 1min 51s, total: 21min 36s\n",
      "Wall time: 21min 44s\n"
     ]
    }
   ],
   "source": [
    "%%time\n",
    "# Bagged decision trees with random undersampling for imbalanced classification\n",
    "from numpy import mean\n",
    "from sklearn.model_selection import cross_val_score\n",
    "from sklearn.model_selection import RepeatedStratifiedKFold\n",
    "from imblearn.ensemble import BalancedBaggingClassifier\n",
    "\n",
    "# Define model\n",
    "bbc = BalancedBaggingClassifier(random_state=58)\n",
    "\n",
    "# Train the model on training data\n",
    "bbc.fit(X_train, y_train)\n",
    "\n",
    "# Make predictions\n",
    "y_pred = bbc.predict(X_test)\n",
    "\n",
    "# Print classification report\n",
    "print(metrics.classification_report(y_test, y_pred))"
   ]
  },
  {
   "cell_type": "markdown",
   "metadata": {},
   "source": [
    "### Standard Random Forest"
   ]
  },
  {
   "cell_type": "code",
   "execution_count": 20,
   "metadata": {},
   "outputs": [
    {
     "name": "stdout",
     "output_type": "stream",
     "text": [
      "              precision    recall  f1-score   support\n",
      "\n",
      "           0       0.66      0.27      0.38    178306\n",
      "           1       0.94      0.99      0.96   1913961\n",
      "\n",
      "    accuracy                           0.93   2092267\n",
      "   macro avg       0.80      0.63      0.67   2092267\n",
      "weighted avg       0.91      0.93      0.91   2092267\n",
      "\n",
      "CPU times: user 10min 24s, sys: 5.91 s, total: 10min 30s\n",
      "Wall time: 10min 30s\n"
     ]
    }
   ],
   "source": [
    "%%time\n",
    "# Standard random forest\n",
    "from sklearn.ensemble import RandomForestClassifier\n",
    "\n",
    "# Define model\n",
    "rfc = RandomForestClassifier(n_estimators=10)\n",
    "\n",
    "# Train the model on training data\n",
    "rfc.fit(X_train, y_train)\n",
    "\n",
    "# Make predictions\n",
    "y_pred = rfc.predict(X_test)\n",
    "\n",
    "# Print classification report\n",
    "print(metrics.classification_report(y_test, y_pred))"
   ]
  },
  {
   "cell_type": "markdown",
   "metadata": {},
   "source": [
    "### Random Forest With Class Weighting"
   ]
  },
  {
   "cell_type": "code",
   "execution_count": 27,
   "metadata": {},
   "outputs": [
    {
     "name": "stdout",
     "output_type": "stream",
     "text": [
      "              precision    recall  f1-score   support\n",
      "\n",
      "           0       0.68      0.25      0.37    178306\n",
      "           1       0.93      0.99      0.96   1913961\n",
      "\n",
      "    accuracy                           0.93   2092267\n",
      "   macro avg       0.81      0.62      0.67   2092267\n",
      "weighted avg       0.91      0.93      0.91   2092267\n",
      "\n",
      "CPU times: user 9min 29s, sys: 8.39 s, total: 9min 37s\n",
      "Wall time: 9min 39s\n"
     ]
    }
   ],
   "source": [
    "%%time\n",
    "from sklearn.ensemble import RandomForestClassifier\n",
    "\n",
    "#Define model\n",
    "rfc_2 = RandomForestClassifier(n_estimators=10, class_weight='balanced')\n",
    "\n",
    "# Train the model on training data\n",
    "rfc_2.fit(X_train, y_train)\n",
    "\n",
    "# Make predictions\n",
    "y_pred = rfc_2.predict(X_test)\n",
    "\n",
    "# Print classification report\n",
    "print(metrics.classification_report(y_test, y_pred))"
   ]
  },
  {
   "cell_type": "markdown",
   "metadata": {},
   "source": [
    "### Random Forest With Bootstrap Class Weighting"
   ]
  },
  {
   "cell_type": "code",
   "execution_count": 22,
   "metadata": {},
   "outputs": [
    {
     "name": "stdout",
     "output_type": "stream",
     "text": [
      "              precision    recall  f1-score   support\n",
      "\n",
      "           0       0.68      0.25      0.37    178306\n",
      "           1       0.93      0.99      0.96   1913961\n",
      "\n",
      "    accuracy                           0.93   2092267\n",
      "   macro avg       0.81      0.62      0.66   2092267\n",
      "weighted avg       0.91      0.93      0.91   2092267\n",
      "\n",
      "CPU times: user 9min 49s, sys: 7.77 s, total: 9min 57s\n",
      "Wall time: 9min 58s\n"
     ]
    }
   ],
   "source": [
    "%%time\n",
    "from sklearn.ensemble import RandomForestClassifier\n",
    "\n",
    "#Define model\n",
    "rfc_3 = RandomForestClassifier(n_estimators=10, class_weight='balanced_subsample')\n",
    "\n",
    "# Train the model on training data\n",
    "rfc_3.fit(X_train, y_train)\n",
    "\n",
    "# Make predictions\n",
    "y_pred = rfc_3.predict(X_test)\n",
    "\n",
    "# Print classification report\n",
    "print(metrics.classification_report(y_test, y_pred))"
   ]
  },
  {
   "cell_type": "markdown",
   "metadata": {},
   "source": [
    "### Random Forest With Random Undersampling"
   ]
  },
  {
   "cell_type": "code",
   "execution_count": 25,
   "metadata": {},
   "outputs": [
    {
     "name": "stdout",
     "output_type": "stream",
     "text": [
      "              precision    recall  f1-score   support\n",
      "\n",
      "           0       0.15      0.69      0.25    178306\n",
      "           1       0.96      0.64      0.77   1913961\n",
      "\n",
      "    accuracy                           0.65   2092267\n",
      "   macro avg       0.56      0.67      0.51   2092267\n",
      "weighted avg       0.89      0.65      0.72   2092267\n",
      "\n",
      "CPU times: user 2min 10s, sys: 10.4 s, total: 2min 21s\n",
      "Wall time: 2min 21s\n"
     ]
    }
   ],
   "source": [
    "%%time\n",
    "from imblearn.ensemble import BalancedRandomForestClassifier\n",
    "\n",
    "#Define model\n",
    "brfc = BalancedRandomForestClassifier(n_estimators=10)\n",
    "\n",
    "# Train the model on training data\n",
    "brfc.fit(X_train, y_train)\n",
    "\n",
    "# Make predictions\n",
    "y_pred = brfc.predict(X_test)\n",
    "\n",
    "# Print classification report\n",
    "print(metrics.classification_report(y_test, y_pred))"
   ]
  },
  {
   "cell_type": "markdown",
   "metadata": {},
   "source": [
    "### Easy Ensemble"
   ]
  },
  {
   "cell_type": "code",
   "execution_count": 26,
   "metadata": {},
   "outputs": [
    {
     "name": "stdout",
     "output_type": "stream",
     "text": [
      "              precision    recall  f1-score   support\n",
      "\n",
      "           0       0.20      0.58      0.30    178306\n",
      "           1       0.95      0.79      0.86   1913961\n",
      "\n",
      "    accuracy                           0.77   2092267\n",
      "   macro avg       0.58      0.69      0.58   2092267\n",
      "weighted avg       0.89      0.77      0.82   2092267\n",
      "\n",
      "CPU times: user 51min 38s, sys: 5min 56s, total: 57min 34s\n",
      "Wall time: 57min 46s\n"
     ]
    }
   ],
   "source": [
    "%%time\n",
    "from imblearn.ensemble import EasyEnsembleClassifier\n",
    "\n",
    "#Define model\n",
    "ee = EasyEnsembleClassifier(n_estimators=10)\n",
    "\n",
    "# Train the model on training data\n",
    "ee.fit(X_train, y_train)\n",
    "\n",
    "# Make predictions\n",
    "y_pred = ee.predict(X_test)\n",
    "\n",
    "# Print classification report\n",
    "print(metrics.classification_report(y_test, y_pred))"
   ]
  },
  {
   "cell_type": "markdown",
   "metadata": {},
   "source": [
    "### Weighted Logistic Regression"
   ]
  },
  {
   "cell_type": "code",
   "execution_count": 22,
   "metadata": {},
   "outputs": [
    {
     "name": "stdout",
     "output_type": "stream",
     "text": [
      "              precision    recall  f1-score   support\n",
      "\n",
      "           0       0.71      0.58      0.64    178286\n",
      "           1       0.64      0.76      0.70    177643\n",
      "\n",
      "    accuracy                           0.67    355929\n",
      "   macro avg       0.68      0.67      0.67    355929\n",
      "weighted avg       0.68      0.67      0.67    355929\n",
      "\n"
     ]
    }
   ],
   "source": [
    "from sklearn.linear_model import LogisticRegression\n",
    "\n",
    "# Define model\n",
    "lr = LogisticRegression(solver='lbfgs', class_weight='balanced', max_iter=1000)\n",
    "\n",
    "# Train the model on training data\n",
    "lr.fit(X_train, y_train)\n",
    "\n",
    "# Make predictions\n",
    "y_pred = lr.predict(X_test)\n",
    "\n",
    "# Print classification report\n",
    "print(metrics.classification_report(y_test, y_pred))"
   ]
  },
  {
   "cell_type": "markdown",
   "metadata": {},
   "source": [
    "### Linear Support Vector Classification"
   ]
  },
  {
   "cell_type": "code",
   "execution_count": 23,
   "metadata": {},
   "outputs": [
    {
     "name": "stdout",
     "output_type": "stream",
     "text": [
      "              precision    recall  f1-score   support\n",
      "\n",
      "           0       0.71      0.57      0.63    178286\n",
      "           1       0.64      0.77      0.70    177643\n",
      "\n",
      "    accuracy                           0.67    355929\n",
      "   macro avg       0.68      0.67      0.67    355929\n",
      "weighted avg       0.68      0.67      0.67    355929\n",
      "\n"
     ]
    }
   ],
   "source": [
    "from sklearn.svm import LinearSVC\n",
    "\n",
    "# define model\n",
    "lsvc = LinearSVC(random_state=0, tol=1e-5, max_iter=1000)\n",
    "\n",
    "# Train the model on training data\n",
    "lsvc.fit(X_train, y_train)\n",
    "\n",
    "# Make predictions\n",
    "y_pred = lsvc.predict(X_test)\n",
    "\n",
    "# Print classification report\n",
    "print(metrics.classification_report(y_test, y_pred))"
   ]
  },
  {
   "cell_type": "markdown",
   "metadata": {},
   "source": [
    "## II. Addressing class imbalance in the dataset before fitting models"
   ]
  },
  {
   "cell_type": "code",
   "execution_count": 13,
   "metadata": {},
   "outputs": [
    {
     "name": "stdout",
     "output_type": "stream",
     "text": [
      "0    711858\n",
      "1    711858\n",
      "Name: action_taken, dtype: int64\n"
     ]
    }
   ],
   "source": [
    "from sklearn.utils import resample\n",
    "\n",
    "# Because the most valuable data is the one for the minority class (action_taken=0), and since we have millions \n",
    "# of observations, downsampling the majority class is the approach selected.\n",
    "\n",
    "# Separate majority and minority classes\n",
    "df_majority = df[df.action_taken==1]\n",
    "df_minority = df[df.action_taken==0]\n",
    "\n",
    "# Downsample majority class\n",
    "df_majority_downsampled = resample(df_majority, \n",
    "                                 replace=False,                  # sample without replacement\n",
    "                                 n_samples=len(df_minority),     # to match minority class\n",
    "                                 random_state=58)\n",
    "\n",
    "# Combine minority class with downsampled majority class\n",
    "df_downsampled = pd.concat([df_majority_downsampled, df_minority])\n",
    "\n",
    "# Display new class counts\n",
    "print(df_downsampled.action_taken.value_counts())\n",
    "\n",
    "# Splitting dataset\n",
    "X = df_downsampled.drop(columns=['action_taken'])\n",
    "y = df_downsampled['action_taken']\n",
    "\n",
    "X_train, X_test, y_train, y_test = train_test_split(X, y, test_size=0.25, random_state=58)\n",
    "\n",
    "# Normalizing dataset: applying scaler on train set\n",
    "scaler = MinMaxScaler()\n",
    "X_train = scaler.fit_transform(X_train)\n",
    "\n",
    "# Applying scaler on test set\n",
    "X_test = scaler.transform(X_test)"
   ]
  },
  {
   "cell_type": "markdown",
   "metadata": {},
   "source": [
    "### Random Forest"
   ]
  },
  {
   "cell_type": "code",
   "execution_count": 15,
   "metadata": {},
   "outputs": [
    {
     "name": "stdout",
     "output_type": "stream",
     "text": [
      "              precision    recall  f1-score   support\n",
      "\n",
      "           0       0.66      0.69      0.68    178286\n",
      "           1       0.68      0.64      0.66    177643\n",
      "\n",
      "    accuracy                           0.67    355929\n",
      "   macro avg       0.67      0.67      0.67    355929\n",
      "weighted avg       0.67      0.67      0.67    355929\n",
      "\n",
      "CPU times: user 53.6 s, sys: 1.05 s, total: 54.7 s\n",
      "Wall time: 55 s\n"
     ]
    }
   ],
   "source": [
    "%%time\n",
    "from sklearn.ensemble import RandomForestClassifier\n",
    "\n",
    "#Define model\n",
    "rfc = RandomForestClassifier(n_estimators=10)\n",
    "\n",
    "# Train the model on training data\n",
    "rfc.fit(X_train, y_train)\n",
    "\n",
    "# Make predictions\n",
    "y_pred = rfc.predict(X_test)\n",
    "\n",
    "# Print classification report\n",
    "print(metrics.classification_report(y_test, y_pred))"
   ]
  },
  {
   "cell_type": "markdown",
   "metadata": {},
   "source": [
    "### Logistic Regression"
   ]
  },
  {
   "cell_type": "code",
   "execution_count": 21,
   "metadata": {},
   "outputs": [
    {
     "name": "stdout",
     "output_type": "stream",
     "text": [
      "              precision    recall  f1-score   support\n",
      "\n",
      "           0       0.71      0.58      0.64    178286\n",
      "           1       0.64      0.76      0.70    177643\n",
      "\n",
      "    accuracy                           0.67    355929\n",
      "   macro avg       0.68      0.67      0.67    355929\n",
      "weighted avg       0.68      0.67      0.67    355929\n",
      "\n",
      "CPU times: user 4min 23s, sys: 3.94 s, total: 4min 27s\n",
      "Wall time: 1min 8s\n"
     ]
    }
   ],
   "source": [
    "%%time\n",
    "\n",
    "from sklearn.linear_model import LogisticRegression\n",
    "\n",
    "# Define model\n",
    "lr = LogisticRegression(max_iter=1000)\n",
    "\n",
    "# Train the model on training data\n",
    "lr.fit(X_train, y_train)\n",
    "\n",
    "# Make predictions\n",
    "y_pred = lr.predict(X_test)\n",
    "\n",
    "# Print classification report\n",
    "print(metrics.classification_report(y_test, y_pred))"
   ]
  },
  {
   "cell_type": "markdown",
   "metadata": {},
   "source": [
    "### Logistic Regression with SGD training"
   ]
  },
  {
   "cell_type": "code",
   "execution_count": 17,
   "metadata": {},
   "outputs": [
    {
     "name": "stdout",
     "output_type": "stream",
     "text": [
      "              precision    recall  f1-score   support\n",
      "\n",
      "           0       0.69      0.62      0.65    178286\n",
      "           1       0.65      0.71      0.68    177643\n",
      "\n",
      "    accuracy                           0.67    355929\n",
      "   macro avg       0.67      0.67      0.67    355929\n",
      "weighted avg       0.67      0.67      0.67    355929\n",
      "\n",
      "CPU times: user 8.09 s, sys: 502 ms, total: 8.59 s\n",
      "Wall time: 8.03 s\n"
     ]
    }
   ],
   "source": [
    "%%time\n",
    "from sklearn.linear_model import SGDClassifier\n",
    "\n",
    "# Define model\n",
    "sgd = SGDClassifier(loss='log', max_iter=100, tol=1e-3)\n",
    "\n",
    "# Train the model on training data\n",
    "sgd.fit(X_train, y_train)\n",
    "\n",
    "# Make predictions\n",
    "y_pred = sgd.predict(X_test)\n",
    "\n",
    "# Print classification report\n",
    "print(metrics.classification_report(y_test, y_pred))"
   ]
  },
  {
   "cell_type": "markdown",
   "metadata": {},
   "source": [
    "### Gradient Boosting Classifier"
   ]
  },
  {
   "cell_type": "code",
   "execution_count": 18,
   "metadata": {},
   "outputs": [
    {
     "name": "stdout",
     "output_type": "stream",
     "text": [
      "              precision    recall  f1-score   support\n",
      "\n",
      "           0       0.74      0.58      0.65    178286\n",
      "           1       0.65      0.79      0.71    177643\n",
      "\n",
      "    accuracy                           0.68    355929\n",
      "   macro avg       0.69      0.68      0.68    355929\n",
      "weighted avg       0.69      0.68      0.68    355929\n",
      "\n",
      "CPU times: user 27.1 s, sys: 621 ms, total: 27.7 s\n",
      "Wall time: 27.8 s\n"
     ]
    }
   ],
   "source": [
    "%%time\n",
    "from sklearn.ensemble import GradientBoostingClassifier\n",
    "\n",
    "# Define model\n",
    "gbc = GradientBoostingClassifier()\n",
    "\n",
    "# Train the model on training data\n",
    "gbc.fit(X_train, y_train)\n",
    "\n",
    "# Make predictions\n",
    "y_pred = gbc.predict(X_test)\n",
    "\n",
    "# Print classification report\n",
    "print(metrics.classification_report(y_test, y_pred))"
   ]
  },
  {
   "cell_type": "markdown",
   "metadata": {},
   "source": [
    "### Support Vector Machine"
   ]
  },
  {
   "cell_type": "code",
   "execution_count": 20,
   "metadata": {},
   "outputs": [
    {
     "name": "stdout",
     "output_type": "stream",
     "text": [
      "              precision    recall  f1-score   support\n",
      "\n",
      "           0       0.71      0.57      0.63    178286\n",
      "           1       0.64      0.77      0.70    177643\n",
      "\n",
      "    accuracy                           0.67    355929\n",
      "   macro avg       0.68      0.67      0.67    355929\n",
      "weighted avg       0.68      0.67      0.67    355929\n",
      "\n",
      "CPU times: user 2min 24s, sys: 1.26 s, total: 2min 25s\n",
      "Wall time: 2min 26s\n"
     ]
    }
   ],
   "source": [
    "%%time\n",
    "\n",
    "from sklearn.svm import LinearSVC\n",
    "\n",
    "# Define model\n",
    "svm = LinearSVC(random_state=0, tol=1e-5, max_iter=1000)\n",
    "\n",
    "# Train the model on training data\n",
    "svm.fit(X_train, y_train)\n",
    "\n",
    "# Make predictions\n",
    "y_pred = svm.predict(X_test)\n",
    "\n",
    "# Print classification report\n",
    "print(metrics.classification_report(y_test, y_pred))"
   ]
  },
  {
   "cell_type": "markdown",
   "metadata": {},
   "source": [
    "## III. Hyperparameter tuning on selected models"
   ]
  },
  {
   "cell_type": "markdown",
   "metadata": {},
   "source": [
    "The most relevant metric is recall, since what matters most for the purposes at hand is the correct identification of mortgage denials; after all, recall penalizes for false negatives. The examples above suggest that the performance with a downsampled majority class perform as well, if not better, than those models which handle class imbalance parametrically. \n",
    "\n",
    "While undersampling means lossing a significant amount of data in the majority class, the purpose of this project is to identify the factors that affect the minority class. Therefore, the decision to downsample is justified."
   ]
  },
  {
   "cell_type": "markdown",
   "metadata": {},
   "source": [
    "### Random Forest"
   ]
  },
  {
   "cell_type": "code",
   "execution_count": 35,
   "metadata": {},
   "outputs": [
    {
     "name": "stdout",
     "output_type": "stream",
     "text": [
      "Fitting 2 folds for each of 30 candidates, totalling 60 fits\n"
     ]
    },
    {
     "name": "stderr",
     "output_type": "stream",
     "text": [
      "/Users/agm/opt/anaconda3/lib/python3.7/site-packages/sklearn/model_selection/_search.py:921: UserWarning: One or more of the test scores are non-finite: [       nan 0.75175165 0.76834046 0.75727563        nan        nan\n",
      " 0.74707186 0.7780856  0.77555292        nan        nan 0.78076992\n",
      "        nan 0.76621773        nan        nan 0.77960933 0.76888893\n",
      "        nan 0.77443913 0.75848862        nan 0.75870764        nan\n",
      " 0.75957059 0.76479133        nan 0.76497665        nan 0.78162538]\n",
      "  category=UserWarning\n"
     ]
    },
    {
     "name": "stdout",
     "output_type": "stream",
     "text": [
      "Tuned Logistic Random Forest Parameters: {'n_estimators': 500, 'min_samples_split': 10, 'min_samples_leaf': 4, 'max_features': 'auto', 'max_depth': None, 'bootstrap': False}\n",
      "Best scores are 0.7816253764297886\n",
      "CPU times: user 48min 49s, sys: 20.1 s, total: 49min 9s\n",
      "Wall time: 2h 5min 31s\n"
     ]
    }
   ],
   "source": [
    "%%time\n",
    "from sklearn.model_selection import RandomizedSearchCV\n",
    "\n",
    "#Define model\n",
    "rfc = RandomForestClassifier()\n",
    "\n",
    "# Number of trees in random forest\n",
    "n_estimators = [10, 50, 100, 300, 500]\n",
    "# Number of features to consider at every split\n",
    "max_features = ['auto', 'log2']\n",
    "# Maximum number of levels in tree\n",
    "max_depth = [np.linspace(10, 110, num = 11)]\n",
    "max_depth.append(None)\n",
    "# Minimum number of samples required to split a node\n",
    "min_samples_split = [2, 5, 10, 20, 30]\n",
    "# Minimum number of samples required at each leaf node\n",
    "min_samples_leaf = [1, 2, 4, 10, 20, 40]\n",
    "# Method of selecting samples for training each tree\n",
    "bootstrap = [True, False]\n",
    "\n",
    "# Create the random grid\n",
    "random_grid = {'n_estimators': n_estimators,\n",
    "               'max_features': max_features,\n",
    "               'max_depth': max_depth,\n",
    "               'min_samples_split': min_samples_split,\n",
    "               'min_samples_leaf': min_samples_leaf,\n",
    "               'bootstrap': bootstrap}\n",
    "\n",
    "# Random search of parameters using 2-fold cross validation, \n",
    "# search across 50 combinations and use all available cores\n",
    "rfc_random = RandomizedSearchCV(estimator = rfc, param_distributions = random_grid, n_iter = 30, cv = 2, \n",
    "                                verbose=2, random_state= 58, n_jobs = -1, scoring = 'recall')\n",
    "\n",
    "# Train model\n",
    "rfc_random.fit(X_train, y_train)\n",
    "\n",
    "# Best parameters\n",
    "print(\"Tuned Logistic Random Forest Parameters: {}\".format(rfc_random.best_params_)) \n",
    "print(\"Best scores are {}\".format(rfc_random.best_score_))"
   ]
  },
  {
   "cell_type": "code",
   "execution_count": 47,
   "metadata": {},
   "outputs": [
    {
     "name": "stdout",
     "output_type": "stream",
     "text": [
      "              precision    recall  f1-score   support\n",
      "\n",
      "           0       0.74      0.63      0.68    178286\n",
      "           1       0.68      0.78      0.73    177643\n",
      "\n",
      "    accuracy                           0.71    355929\n",
      "   macro avg       0.71      0.71      0.70    355929\n",
      "weighted avg       0.71      0.71      0.70    355929\n",
      "\n"
     ]
    }
   ],
   "source": [
    "#Prediction with best tuned model\n",
    "y_pred = rfc_random.predict(X_test)\n",
    "\n",
    "# Print classification report\n",
    "print(metrics.classification_report(y_test, y_pred))"
   ]
  },
  {
   "cell_type": "markdown",
   "metadata": {},
   "source": [
    "### Gradient Boosting Classifier"
   ]
  },
  {
   "cell_type": "code",
   "execution_count": 36,
   "metadata": {},
   "outputs": [
    {
     "name": "stdout",
     "output_type": "stream",
     "text": [
      "Fitting 2 folds for each of 50 candidates, totalling 100 fits\n",
      "Tuned Gradient Boosting Parameters: {'subsample': 1, 'n_estimators': 25, 'min_samples_split': 3000, 'min_samples_leaf': 50, 'max_features': 'log2', 'max_depth': 2, 'learning_rate': 0.001}\n",
      "Best scores are 0.9108579905830583\n",
      "CPU times: user 7.96 s, sys: 2.59 s, total: 10.6 s\n",
      "Wall time: 31min 35s\n"
     ]
    }
   ],
   "source": [
    "%%time\n",
    "#Define model\n",
    "gbc = GradientBoostingClassifier(random_state=58)\n",
    "\n",
    "# Create the random grid\n",
    "random_grid = {'learning_rate': [0.1, 0.01, 0.001],\n",
    "               'n_estimators': [10,25,50,100],\n",
    "               'min_samples_split': [100,1000,2000,3000],\n",
    "               'min_samples_leaf': [1,50],\n",
    "               'max_depth': [2,4,6,8,10],\n",
    "               'max_features': ['sqrt','log2'],\n",
    "               'subsample': [0.8,1]}\n",
    "\n",
    "# Random search of parameters using 2-fold cross validation, \n",
    "# search across 50 combinations and use all available cores\n",
    "gbc_random = RandomizedSearchCV(estimator = gbc, param_distributions = random_grid, n_iter = 50, cv = 2, \n",
    "                                verbose=2, random_state= 58, n_jobs = -1, scoring = 'recall')\n",
    "\n",
    "# Train model\n",
    "gbc_random.fit(X_train, y_train)\n",
    "\n",
    "# Best parameters\n",
    "print(\"Tuned Gradient Boosting Parameters: {}\".format(gbc_random.best_params_)) \n",
    "print(\"Best scores are {}\".format(gbc_random.best_score_))"
   ]
  },
  {
   "cell_type": "code",
   "execution_count": 59,
   "metadata": {},
   "outputs": [
    {
     "name": "stdout",
     "output_type": "stream",
     "text": [
      "              precision    recall  f1-score   support\n",
      "\n",
      "           0       0.79      0.35      0.48    178286\n",
      "           1       0.58      0.91      0.71    177643\n",
      "\n",
      "    accuracy                           0.63    355929\n",
      "   macro avg       0.69      0.63      0.59    355929\n",
      "weighted avg       0.69      0.63      0.59    355929\n",
      "\n"
     ]
    }
   ],
   "source": [
    "#Prediction with best tuned model\n",
    "y_pred = gbc_random.predict(X_test)\n",
    "\n",
    "# Print classification report\n",
    "print(metrics.classification_report(y_test, y_pred))"
   ]
  },
  {
   "cell_type": "markdown",
   "metadata": {},
   "source": [
    "### Logistic Regression with SGD training"
   ]
  },
  {
   "cell_type": "code",
   "execution_count": 42,
   "metadata": {},
   "outputs": [
    {
     "name": "stdout",
     "output_type": "stream",
     "text": [
      "Fitting 2 folds for each of 50 candidates, totalling 100 fits\n",
      "Tuned Logistic Regression Parameters: {'penalty': 'l1', 'max_iter': 10, 'loss': 'log', 'alpha': 0.1}\n",
      "Best scores are 1.0\n"
     ]
    }
   ],
   "source": [
    "#Define model\n",
    "sgd = SGDClassifier()\n",
    "\n",
    "loss = ['log'] \n",
    "penalty = ['l1', 'l2', 'elasticnet'] \n",
    "alpha = [0.0001, 0.001, 0.01, 0.1, 1, 10, 100, 1000] \n",
    "max_iter = [5,10,20,50,100]\n",
    "\n",
    "# Create the random grid\n",
    "random_grid = {'loss': loss, \n",
    "               'penalty': penalty, \n",
    "               'alpha': alpha, \n",
    "               'max_iter': max_iter, \n",
    "               }\n",
    "\n",
    "# Random search of parameters using 2-fold cross validation, \n",
    "# search across 100 combinations and use all available cores\n",
    "sgd_random = RandomizedSearchCV(estimator = sgd, param_distributions = random_grid, n_iter=50, cv = 2, \n",
    "                                verbose=2, random_state= 58, n_jobs = -1, scoring = 'recall')\n",
    "\n",
    "# Train model\n",
    "sgd_random.fit(X_train, y_train)\n",
    "\n",
    "# Best parameters\n",
    "print(\"Tuned Logistic Regression Parameters: {}\".format(sgd_random.best_params_)) \n",
    "print(\"Best scores are {}\".format(sgd_random.best_score_))"
   ]
  },
  {
   "cell_type": "code",
   "execution_count": 60,
   "metadata": {},
   "outputs": [
    {
     "name": "stderr",
     "output_type": "stream",
     "text": [
      "/Users/agm/opt/anaconda3/lib/python3.7/site-packages/sklearn/metrics/_classification.py:1245: UndefinedMetricWarning: Precision and F-score are ill-defined and being set to 0.0 in labels with no predicted samples. Use `zero_division` parameter to control this behavior.\n",
      "  _warn_prf(average, modifier, msg_start, len(result))\n",
      "/Users/agm/opt/anaconda3/lib/python3.7/site-packages/sklearn/metrics/_classification.py:1245: UndefinedMetricWarning: Precision and F-score are ill-defined and being set to 0.0 in labels with no predicted samples. Use `zero_division` parameter to control this behavior.\n",
      "  _warn_prf(average, modifier, msg_start, len(result))\n"
     ]
    },
    {
     "name": "stdout",
     "output_type": "stream",
     "text": [
      "              precision    recall  f1-score   support\n",
      "\n",
      "           0       0.00      0.00      0.00    178286\n",
      "           1       0.50      1.00      0.67    177643\n",
      "\n",
      "    accuracy                           0.50    355929\n",
      "   macro avg       0.25      0.50      0.33    355929\n",
      "weighted avg       0.25      0.50      0.33    355929\n",
      "\n"
     ]
    },
    {
     "name": "stderr",
     "output_type": "stream",
     "text": [
      "/Users/agm/opt/anaconda3/lib/python3.7/site-packages/sklearn/metrics/_classification.py:1245: UndefinedMetricWarning: Precision and F-score are ill-defined and being set to 0.0 in labels with no predicted samples. Use `zero_division` parameter to control this behavior.\n",
      "  _warn_prf(average, modifier, msg_start, len(result))\n"
     ]
    }
   ],
   "source": [
    "#Prediction with best tuned model\n",
    "y_pred = sgd_random.predict(X_test)\n",
    "\n",
    "# Print classification report\n",
    "print(metrics.classification_report(y_test, y_pred))"
   ]
  },
  {
   "cell_type": "markdown",
   "metadata": {},
   "source": [
    "### Feature importance\n",
    "\n",
    "The purpose of this project is not only to be able to predict the outcome of applications; rather, understanding the importance of parameters is important in understanding the extent to which subjective characteristics of applicants (e.g. gender, race, ethnicity) appear to have an impact in loan application outcomes."
   ]
  },
  {
   "cell_type": "code",
   "execution_count": 186,
   "metadata": {},
   "outputs": [],
   "source": [
    "def plot_feature_importance (model, top_number, title):\n",
    "    feat_imp = pd.DataFrame({'importance':model.best_estimator_.feature_importances_*100})    \n",
    "    feat_imp['feature'] = X.columns\n",
    "    feat_imp.sort_values(by='importance', ascending=False, inplace=True)\n",
    "    feat_imp = feat_imp.iloc[:top_number]\n",
    "    feat_imp.sort_values(by='importance', inplace=True)\n",
    "    feat_imp = feat_imp.set_index('feature', drop=True)\n",
    "    feat_imp.plot.barh(figsize=(10,7))\n",
    "    plt.xlabel('Feature Importance %')\n",
    "    plt.xticks(range(0,int(feat_imp.importance.max()),5))\n",
    "    plt.title(f'Feature Importances for {title}')\n",
    "    plt.show()"
   ]
  },
  {
   "cell_type": "code",
   "execution_count": 187,
   "metadata": {},
   "outputs": [
    {
     "data": {
      "image/png": "[encoded data removed]",
      "text/plain": [
       "<Figure size 720x504 with 1 Axes>"
      ]
     },
     "metadata": {},
     "output_type": "display_data"
    }
   ],
   "source": [
    "plot_feature_importance(rfc_random, 15, 'Random Forest Model')"
   ]
  },
  {
   "cell_type": "code",
   "execution_count": 188,
   "metadata": {},
   "outputs": [
    {
     "data": {
      "image/png": "[encoded data removed]",
      "text/plain": [
       "<Figure size 720x504 with 1 Axes>"
      ]
     },
     "metadata": {},
     "output_type": "display_data"
    }
   ],
   "source": [
    "plot_feature_importance(gbc_random, 15, 'Logistic Regression with SGD training')"
   ]
  },
  {
   "cell_type": "markdown",
   "metadata": {},
   "source": [
    "### Partial conclusions"
   ]
  },
  {
   "cell_type": "markdown",
   "metadata": {},
   "source": [
    "The graphs above coincide in that the most important factor to consider is debt to income ratio, particularly if this is greater than 60%. Also important is data related to income and loan amount. In the two top models selected, race and ethnicity are within the top 15 important features, although their overall importance is less than 5%. While this data is not strong enough to suggest there is racial or ethnic bias, it is nonetheless present in the trends explored in EDA and confirmed by these machine learning models."
   ]
  },
  {
   "cell_type": "markdown",
   "metadata": {},
   "source": [
    "### Future work"
   ]
  },
  {
   "cell_type": "markdown",
   "metadata": {},
   "source": [
    "Further work concerning the influence of subjective factors in the mortgage loan application could examine trends along different granularities: by state, by metropolitan area, by tract. More models can be trained accordingly, with the ability to dedicate more resources to hyperparameter tuning as the sample sizes grow smaller with increased geographical specificity."
   ]
  },
  {
   "cell_type": "code",
   "execution_count": null,
   "metadata": {},
   "outputs": [],
   "source": []
  }
 ],
 "metadata": {
  "kernelspec": {
   "display_name": "Python 3",
   "language": "python",
   "name": "python3"
  },
  "language_info": {
   "codemirror_mode": {
    "name": "ipython",
    "version": 3
   },
   "file_extension": ".py",
   "mimetype": "text/x-python",
   "name": "python",
   "nbconvert_exporter": "python",
   "pygments_lexer": "ipython3",
   "version": "3.7.6"
  }
 },
 "nbformat": 4,
 "nbformat_minor": 4
}
